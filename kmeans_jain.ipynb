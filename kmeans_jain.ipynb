{
  "cells": [
    {
      "cell_type": "markdown",
      "metadata": {
        "id": "AIbJ3bhTkAxC"
      },
      "source": []
    },
    {
      "cell_type": "markdown",
      "metadata": {
        "id": "bT9hKchnkG-7"
      },
      "source": [
        "Importing the Libraries "
      ]
    },
    {
      "cell_type": "code",
      "execution_count": 61,
      "metadata": {
        "id": "exFFaXoikLyO"
      },
      "outputs": [],
      "source": [
        "import pandas as pd\n",
        "import numpy as np\n",
        "import matplotlib.pyplot as plt \n",
        "import seaborn as sns\n",
        "from sklearn.cluster import KMeans \n",
        "from sklearn.metrics import silhouette_score\n",
        "from sklearn.preprocessing import MinMaxScaler\n",
        "from sklearn.preprocessing import StandardScaler"
      ]
    },
    {
      "cell_type": "markdown",
      "metadata": {
        "id": "V-wODM40kRDO"
      },
      "source": [
        "Importing the data"
      ]
    },
    {
      "cell_type": "code",
      "execution_count": 62,
      "metadata": {
        "id": "MpePfbX1kWSp"
      },
      "outputs": [],
      "source": [
        "iris = pd.read_excel(\"jain.xlsx\")\n",
        "X = iris.iloc[:, [0, 1]].values\n",
        "\n",
        "target = iris.iloc[:,2].values\n",
        "\n",
        "scaler = StandardScaler()\n",
        "x = scaler.fit_transform(X)"
      ]
    },
    {
      "cell_type": "markdown",
      "metadata": {
        "id": "N-evVF9_koAy"
      },
      "source": [
        "Viewing the Data"
      ]
    },
    {
      "cell_type": "code",
      "execution_count": 63,
      "metadata": {
        "colab": {
          "base_uri": "https://localhost:8080/"
        },
        "id": "pqltewaJkq8T",
        "outputId": "4cb11350-93fc-4c46-fa9c-8cd8c1487cf1"
      },
      "outputs": [
        {
          "output_type": "execute_result",
          "data": {
            "text/plain": [
              "array([[-2.41814406,  0.52552616],\n",
              "       [-2.15734576,  0.50279763],\n",
              "       [-1.95791176,  0.31339314],\n",
              "       [-1.99370761,  0.53310234],\n",
              "       [-1.94768438,  0.56340706],\n",
              "       [-1.97325284,  0.87403041],\n",
              "       [-2.02438976,  0.92706367],\n",
              "       [-2.08064038,  1.00282546],\n",
              "       [-2.14711837,  1.14677287],\n",
              "       [-2.1982553 ,  1.36648207],\n",
              "       [-2.17780053,  1.47254859],\n",
              "       [-2.09598145,  1.47254859],\n",
              "       [-2.04484453,  1.19980613],\n",
              "       [-1.75847777,  0.35885022],\n",
              "       [-1.71245454,  0.66189739],\n",
              "       [-1.76870515,  0.98767311],\n",
              "       [-1.77381884,  1.17707759],\n",
              "       [-1.89654746,  1.27556792],\n",
              "       [-1.9323433 ,  1.46497241],\n",
              "       [-1.82495577,  1.46497241],\n",
              "       [-1.87609269,  1.5407342 ],\n",
              "       [-1.96302546,  1.70741015],\n",
              "       [-2.02950345,  1.78317194],\n",
              "       [-1.97325284,  1.85893373],\n",
              "       [-1.66643131,  2.15440473],\n",
              "       [-1.45676993,  2.35896157],\n",
              "       [-1.49767947,  2.02560968],\n",
              "       [-1.55393008,  1.35890589],\n",
              "       [-1.34938239,  1.61649599],\n",
              "       [-1.20619901,  1.66195307],\n",
              "       [-1.13972102,  1.72256251],\n",
              "       [-1.30335917,  2.23016652],\n",
              "       [-1.22154009,  2.33623303],\n",
              "       [-1.13460732,  2.38169011],\n",
              "       [-1.09369779,  2.36653775],\n",
              "       [-1.04767456,  2.2377427 ],\n",
              "       [-1.05790194,  2.18470945],\n",
              "       [-0.94540071,  1.82862902],\n",
              "       [-0.94028702,  1.91196699],\n",
              "       [-1.24710855,  1.32860118],\n",
              "       [-1.25222224,  1.41193915],\n",
              "       [-1.19085794,  1.5028533 ],\n",
              "       [-1.1499484 ,  1.47254859],\n",
              "       [-1.08858409,  1.49527712],\n",
              "       [-1.06812933,  1.60134364],\n",
              "       [-1.0221061 ,  1.59376746],\n",
              "       [-1.04256086,  1.51800566],\n",
              "       [-1.05278825,  1.45739623],\n",
              "       [-1.05790194,  1.40436297],\n",
              "       [-0.73573933,  1.91954317],\n",
              "       [-0.68460241,  1.92711935],\n",
              "       [-0.69994349,  1.9801526 ],\n",
              "       [-0.7561941 ,  2.23016652],\n",
              "       [-0.80221733,  2.26804742],\n",
              "       [-0.53630534,  2.00288114],\n",
              "       [-0.57210118,  1.90439081],\n",
              "       [-0.30618919,  2.07864294],\n",
              "       [-0.87892272,  1.39678679],\n",
              "       [-0.79710364,  1.36648207],\n",
              "       [-0.71017087,  1.30587264],\n",
              "       [-0.65392026,  1.33617736],\n",
              "       [-0.6283518 ,  1.22253467],\n",
              "       [-0.65392026,  1.5407342 ],\n",
              "       [-0.59255595,  1.53315802],\n",
              "       [-0.53119165,  1.48770094],\n",
              "       [-0.50562319,  1.51042948],\n",
              "       [-0.43914519,  1.43466769],\n",
              "       [-0.43914519,  1.32860118],\n",
              "       [-0.45959996,  1.2452632 ],\n",
              "       [-0.50562319,  1.04828254],\n",
              "       [-0.52607796,  0.99524928],\n",
              "       [-0.31641658,  1.5407342 ],\n",
              "       [-0.15277843,  1.74529104],\n",
              "       [-0.12720997,  1.81347666],\n",
              "       [-0.01470874,  1.62407217],\n",
              "       [-0.23971119,  1.23011085],\n",
              "       [-0.35221242,  0.92706367],\n",
              "       [-0.28062073,  0.77554008],\n",
              "       [-0.29084812,  0.69220211],\n",
              "       [-0.28573442,  0.63159267],\n",
              "       [-0.29596181,  0.5103738 ],\n",
              "       [-0.20391535,  0.66189739],\n",
              "       [-0.21925643,  0.90433513],\n",
              "       [-0.12720997,  1.04828254],\n",
              "       [-0.09141412,  1.16192523],\n",
              "       [-0.06584566,  1.22253467],\n",
              "       [ 0.07733772,  1.16192523],\n",
              "       [ 0.11313357,  1.10889198],\n",
              "       [-0.14255104,  0.88918277],\n",
              "       [-0.04539089,  0.85130188],\n",
              "       [ 0.1540431 ,  0.82099716],\n",
              "       [ 0.33302233,  0.53310234],\n",
              "       [-0.13232366,  0.37400258],\n",
              "       [-0.09141412,  0.46491673],\n",
              "       [-0.03516351,  0.41945965],\n",
              "       [ 0.01085972,  0.38915493],\n",
              "       [-1.04767456,  0.79069244],\n",
              "       [-1.03233348,  0.70735447],\n",
              "       [-1.03233348,  0.5482547 ],\n",
              "       [-0.98631025,  0.44976437],\n",
              "       [-0.92494594,  0.5103738 ],\n",
              "       [-0.86358164,  0.65432121],\n",
              "       [-0.80733102,  0.74523537],\n",
              "       [-0.72039826,  0.74523537],\n",
              "       [-0.74085303,  0.63159267],\n",
              "       [-0.79198995,  0.60128796],\n",
              "       [-0.80733102,  0.45734055],\n",
              "       [-0.83289949,  0.42703583],\n",
              "       [-0.85846795,  0.32096932],\n",
              "       [-0.86869533,  0.16186955],\n",
              "       [-0.94540071, -0.01238257],\n",
              "       [-0.94028702, -0.06541583],\n",
              "       [-0.7561941 ,  0.53310234],\n",
              "       [-0.76642149,  0.48764527],\n",
              "       [-0.72039826,  0.50279763],\n",
              "       [-0.74085303,  0.44976437],\n",
              "       [-0.72551195,  0.41945965],\n",
              "       [-0.68460241,  0.43461201],\n",
              "       [-0.7561941 ,  0.37400258],\n",
              "       [-0.77153518,  0.3285455 ],\n",
              "       [-0.79710364,  0.2906646 ],\n",
              "       [-0.74596672,  0.28308842],\n",
              "       [-0.71017087,  0.30581696],\n",
              "       [-0.67437503,  0.31339314],\n",
              "       [-0.6948298 ,  0.26035988],\n",
              "       [-0.73573933,  0.20732663],\n",
              "       [-0.73062564,  0.15429337],\n",
              "       [-0.74596672,  0.09368394],\n",
              "       [-0.7613078 ,  0.0330745 ],\n",
              "       [-0.80733102,  0.01034597],\n",
              "       [-0.83289949,  0.05580304],\n",
              "       [-0.85335425, -0.03511111],\n",
              "       [-0.79198995, -0.1866347 ],\n",
              "       [-0.78687626, -0.1108729 ],\n",
              "       [-0.7613078 , -0.13360144],\n",
              "       [-0.72551195, -0.14117762],\n",
              "       [-0.64880657, -0.03511111],\n",
              "       [-0.59255595,  0.05580304],\n",
              "       [-0.5618738 , -0.01238257],\n",
              "       [-0.58232857, -0.13360144],\n",
              "       [-0.65903395, -0.1866347 ],\n",
              "       [-0.61301072, -0.31542975],\n",
              "       [-0.71017087, -0.26239649],\n",
              "       [-0.6948298 , -0.30027739],\n",
              "       [-0.68460241, -0.34573447],\n",
              "       [-0.72551195, -0.368463  ],\n",
              "       [-0.7613078 , -0.368463  ],\n",
              "       [-0.78176256, -0.37603918],\n",
              "       [-0.46982734, -0.33058211],\n",
              "       [-0.54141903, -0.39119154],\n",
              "       [-0.70505718, -0.58059603],\n",
              "       [-0.69994349, -0.61090074],\n",
              "       [-0.66926134, -0.69423872],\n",
              "       [-0.63346549, -0.57301985],\n",
              "       [-0.52096426, -0.45937716],\n",
              "       [-0.51073688, -0.49725805],\n",
              "       [-0.54653272, -0.49725805],\n",
              "       [-0.5618738 , -0.55029131],\n",
              "       [-0.59255595, -0.64878164],\n",
              "       [-0.58232857, -0.67908636],\n",
              "       [-0.51585057, -0.59574838],\n",
              "       [-0.45448626, -0.58059603],\n",
              "       [-0.44937257, -0.48968187],\n",
              "       [-0.41869042, -0.48968187],\n",
              "       [-0.39312196, -0.50483423],\n",
              "       [-0.61812441, -0.78515287],\n",
              "       [-0.58744226, -0.79272905],\n",
              "       [-0.52096426, -0.77757669],\n",
              "       [-0.54141903, -0.80030523],\n",
              "       [-0.53630534, -0.83060995],\n",
              "       [-0.32664396, -0.50483423],\n",
              "       [-0.30618919, -0.50483423],\n",
              "       [-0.33687134, -0.6260531 ],\n",
              "       [-0.40846304, -0.77757669],\n",
              "       [-0.39823565, -0.87606702],\n",
              "       [-0.43914519, -0.9215241 ],\n",
              "       [-0.40334934, -1.05789533],\n",
              "       [-0.35221242, -0.99728589],\n",
              "       [-0.35221242, -0.89879556],\n",
              "       [-0.35732611, -0.83818613],\n",
              "       [-0.34198504, -0.77757669],\n",
              "       [-0.26016596, -0.55029131],\n",
              "       [-0.25505227, -0.59574838],\n",
              "       [-0.21414273, -0.67151018],\n",
              "       [-0.26016596, -0.83060995],\n",
              "       [-0.31641658, -1.07304769],\n",
              "       [-0.18346058, -0.82303377],\n",
              "       [-0.19368796, -0.90637174],\n",
              "       [-0.07607304, -0.74727197],\n",
              "       [-0.03004981, -0.77757669],\n",
              "       [-0.24993858, -1.11092858],\n",
              "       [-0.22948381, -1.07304769],\n",
              "       [-0.19880166, -1.03516679],\n",
              "       [-0.19880166, -1.09577622],\n",
              "       [-0.1732332 , -1.00486207],\n",
              "       [-0.14255104, -0.98970971],\n",
              "       [-0.12209627, -1.03516679],\n",
              "       [-0.09652781, -0.93667646],\n",
              "       [-0.06584566, -0.93667646],\n",
              "       [ 0.00574603, -0.90637174],\n",
              "       [ 0.02108711, -0.86091466],\n",
              "       [ 0.08245141, -0.8457623 ],\n",
              "       [ 0.16938418, -0.86849084],\n",
              "       [ 0.0926788 , -0.96698117],\n",
              "       [-0.00448135, -1.02759061],\n",
              "       [-0.11186889, -1.09577622],\n",
              "       [-0.14766473, -1.11850476],\n",
              "       [-0.20391535, -1.14880948],\n",
              "       [-0.16300581, -1.21699509],\n",
              "       [-0.15277843, -1.23214745],\n",
              "       [-0.11698258, -1.25487599],\n",
              "       [-0.09652781, -1.29275689],\n",
              "       [-0.08630043, -1.20184274],\n",
              "       [-0.06073197, -1.28518071],\n",
              "       [-0.06073197, -1.11850476],\n",
              "       [-0.01982243, -1.23214745],\n",
              "       [ 0.01597341, -1.23214745],\n",
              "       [ 0.03131449, -1.25487599],\n",
              "       [ 0.03131449, -1.18669038],\n",
              "       [ 0.05176926, -1.11850476],\n",
              "       [ 0.20518003, -0.97455735],\n",
              "       [ 0.28188541, -0.93667646],\n",
              "       [ 0.29722648, -1.01243825],\n",
              "       [ 0.31768125, -1.01243825],\n",
              "       [ 0.32279495, -1.06547151],\n",
              "       [ 0.25120325, -1.08820004],\n",
              "       [ 0.22563479, -1.09577622],\n",
              "       [ 0.25120325, -1.17153802],\n",
              "       [ 0.18472526, -1.17153802],\n",
              "       [ 0.16427049, -1.19426656],\n",
              "       [ 0.07733772, -1.21699509],\n",
              "       [ 0.12336095, -1.24729981],\n",
              "       [ 0.14892941, -1.29275689],\n",
              "       [ 0.05688295, -1.33063778],\n",
              "       [ 0.07222403, -1.34579014],\n",
              "       [ 0.10801987, -1.3609425 ],\n",
              "       [ 0.25120325, -1.39124722],\n",
              "       [ 0.28188541, -1.3609425 ],\n",
              "       [ 0.2869991 , -1.38367104],\n",
              "       [ 0.36370448, -1.34579014],\n",
              "       [ 0.36370448, -1.30790925],\n",
              "       [ 0.45063725, -1.22457127],\n",
              "       [ 0.45063725, -1.12608094],\n",
              "       [ 0.44552356, -1.01243825],\n",
              "       [ 0.43018248, -0.96698117],\n",
              "       [ 0.49666048, -0.8836432 ],\n",
              "       [ 0.57336586, -0.8457623 ],\n",
              "       [ 0.63473017, -1.32306161],\n",
              "       [ 0.57847955, -1.31548543],\n",
              "       [ 0.5477974 , -1.31548543],\n",
              "       [ 0.49154679, -1.23214745],\n",
              "       [ 0.51711525, -1.22457127],\n",
              "       [ 0.47620571, -1.14880948],\n",
              "       [ 0.51200156, -1.1033524 ],\n",
              "       [ 0.52222894, -1.12608094],\n",
              "       [ 0.56313848, -1.16396184],\n",
              "       [ 0.65007124, -1.16396184],\n",
              "       [ 0.6142754 , -1.22457127],\n",
              "       [ 0.65518494, -1.23972363],\n",
              "       [ 0.6807534 , -1.23972363],\n",
              "       [ 0.66541232, -1.05031915],\n",
              "       [ 0.63984386, -0.95182882],\n",
              "       [ 0.64495755, -0.90637174],\n",
              "       [ 0.72677663, -0.89121938],\n",
              "       [ 0.7421177 , -0.8457623 ],\n",
              "       [ 0.77791355, -0.77757669],\n",
              "       [ 0.82905047, -0.63362928],\n",
              "       [ 0.91598324, -0.70939108],\n",
              "       [ 0.83927785, -0.78515287],\n",
              "       [ 0.84439155, -0.83818613],\n",
              "       [ 0.83416416, -0.87606702],\n",
              "       [ 0.81370939, -0.91394792],\n",
              "       [ 0.83416416, -0.959405  ],\n",
              "       [ 0.79836832, -1.07304769],\n",
              "       [ 0.81370939, -1.19426656],\n",
              "       [ 0.86996001, -1.20941891],\n",
              "       [ 0.84950524, -1.1412333 ],\n",
              "       [ 0.85461893, -1.1033524 ],\n",
              "       [ 0.99268862, -1.1412333 ],\n",
              "       [ 0.99268862, -1.08062387],\n",
              "       [ 0.9415517 , -1.04274297],\n",
              "       [ 0.91598324, -0.98213353],\n",
              "       [ 0.95689277, -0.93667646],\n",
              "       [ 0.92109693, -0.89879556],\n",
              "       [ 1.02848446, -0.959405  ],\n",
              "       [ 1.04893923, -0.98213353],\n",
              "       [ 1.04893923, -0.89121938],\n",
              "       [ 1.11030354, -0.89121938],\n",
              "       [ 1.01825708, -0.80788141],\n",
              "       [ 0.99268862, -0.75484815],\n",
              "       [ 1.02848446, -0.73211961],\n",
              "       [ 1.05405293, -0.74727197],\n",
              "       [ 1.069394  , -0.77757669],\n",
              "       [ 1.01825708, -0.663934  ],\n",
              "       [ 1.03871185, -0.64878164],\n",
              "       [ 1.08984877, -0.6260531 ],\n",
              "       [ 1.135872  , -0.61847692],\n",
              "       [ 1.16655415, -0.76242433],\n",
              "       [ 1.24837323, -0.82303377],\n",
              "       [ 1.2637143 , -0.73969579],\n",
              "       [ 1.23814584, -0.71696726],\n",
              "       [ 1.18189523, -0.64120546],\n",
              "       [ 1.19723631, -0.61090074],\n",
              "       [ 1.20235   , -0.56544367],\n",
              "       [ 1.35064707, -0.72454343],\n",
              "       [ 1.38132922, -0.67908636],\n",
              "       [ 0.48643309, -1.17153802],\n",
              "       [ 1.07450769, -0.47452951],\n",
              "       [ 1.11541723, -0.41392008],\n",
              "       [ 1.17678154, -0.42149626],\n",
              "       [ 1.18700892, -0.37603918],\n",
              "       [ 1.16144046, -0.32300593],\n",
              "       [ 1.25860061, -0.45180098],\n",
              "       [ 1.24837323, -0.35331064],\n",
              "       [ 1.27905538, -0.36088682],\n",
              "       [ 1.31485123, -0.30027739],\n",
              "       [ 1.22791846, -0.30027739],\n",
              "       [ 1.21769107, -0.21693942],\n",
              "       [ 1.2637143 , -0.19421088],\n",
              "       [ 1.40689769, -0.368463  ],\n",
              "       [ 1.43246615, -0.4063439 ],\n",
              "       [ 1.42735245, -0.24724413],\n",
              "       [ 1.36087446, -0.20178706],\n",
              "       [ 1.33530599, -0.1487538 ],\n",
              "       [ 1.32507861, -0.1108729 ],\n",
              "       [ 1.28928277, -0.05783965],\n",
              "       [ 1.268828  ,  0.01034597],\n",
              "       [ 1.30462384,  0.06337922],\n",
              "       [ 1.31485123,  0.00276979],\n",
              "       [ 1.35576076, -0.02753493],\n",
              "       [ 1.38644292, -0.04268729],\n",
              "       [ 1.45292091, -0.05783965],\n",
              "       [ 1.44269353,  0.01034597],\n",
              "       [ 1.39155661,  0.12398866],\n",
              "       [ 1.31996492,  0.13156484],\n",
              "       [ 1.34041969,  0.19217427],\n",
              "       [ 1.37621553,  0.35885022],\n",
              "       [ 1.42223876,  0.37400258],\n",
              "       [ 1.3966703 ,  0.35127404],\n",
              "       [ 1.42735245,  0.33612168],\n",
              "       [ 1.44269353,  0.32096932],\n",
              "       [ 1.52451261,  0.31339314],\n",
              "       [ 1.49383045,  0.16186955],\n",
              "       [ 1.48871676,  0.11641248],\n",
              "       [ 1.51428522,  0.0330745 ],\n",
              "       [ 1.54496737, -0.05026347],\n",
              "       [ 1.55008107,  0.02549832],\n",
              "       [ 1.57053583,  0.09368394],\n",
              "       [ 1.61655906,  0.10126012],\n",
              "       [ 1.63701383, -0.01238257],\n",
              "       [ 1.64212753,  0.05580304],\n",
              "       [ 1.65235491,  0.15429337],\n",
              "       [ 1.64212753,  0.35885022],\n",
              "       [ 1.61655906,  0.40430729],\n",
              "       [ 1.66258229,  0.41945965],\n",
              "       [ 1.6574686 ,  0.47249291],\n",
              "       [ 1.72906029,  0.48006909],\n",
              "       [ 1.69326445,  0.54067852],\n",
              "       [ 1.7239466 ,  0.70735447],\n",
              "       [ 1.69326445,  0.74523537],\n",
              "       [ 1.66769599,  0.65432121],\n",
              "       [ 1.64212753,  0.63159267],\n",
              "       [ 1.58587691,  0.61644032],\n",
              "       [ 1.56030845,  0.61644032],\n",
              "       [ 1.51939891,  0.5103738 ],\n",
              "       [ 1.47848938,  0.5103738 ],\n",
              "       [ 1.42223876,  0.66189739],\n",
              "       [ 1.46826199,  0.71493065],\n",
              "       [ 1.49383045,  0.67704975],\n",
              "       [ 1.41712507,  0.79069244],\n",
              "       [ 1.54496737,  0.73008301],\n",
              "       [ 1.58587691,  0.74523537]])"
            ]
          },
          "metadata": {},
          "execution_count": 63
        }
      ],
      "source": [
        "x"
      ]
    },
    {
      "cell_type": "markdown",
      "metadata": {
        "id": "_ZKs6Cw_kwZg"
      },
      "source": [
        "Viewing the target"
      ]
    },
    {
      "cell_type": "code",
      "execution_count": 50,
      "metadata": {
        "colab": {
          "base_uri": "https://localhost:8080/"
        },
        "id": "jIyXgGc5k0Ea",
        "outputId": "0ca7c963-14cc-4534-aa85-de62f6cc72c7"
      },
      "outputs": [
        {
          "output_type": "execute_result",
          "data": {
            "text/plain": [
              "array([2, 2, 2, 2, 2, 2, 2, 2, 2, 2, 2, 2, 2, 2, 2, 2, 2, 2, 2, 2, 2, 2,\n",
              "       2, 2, 2, 2, 2, 2, 2, 2, 2, 2, 2, 2, 2, 2, 2, 2, 2, 2, 2, 2, 2, 2,\n",
              "       2, 2, 2, 2, 2, 2, 2, 2, 2, 2, 2, 2, 2, 2, 2, 2, 2, 2, 2, 2, 2, 2,\n",
              "       2, 2, 2, 2, 2, 2, 2, 2, 2, 2, 2, 2, 2, 2, 2, 2, 2, 2, 2, 2, 2, 2,\n",
              "       2, 2, 2, 2, 2, 2, 2, 2, 1, 1, 1, 1, 1, 1, 1, 1, 1, 1, 1, 1, 1, 1,\n",
              "       1, 1, 1, 1, 1, 1, 1, 1, 1, 1, 1, 1, 1, 1, 1, 1, 1, 1, 1, 1, 1, 1,\n",
              "       1, 1, 1, 1, 1, 1, 1, 1, 1, 1, 1, 1, 1, 1, 1, 1, 1, 1, 1, 1, 1, 1,\n",
              "       1, 1, 1, 1, 1, 1, 1, 1, 1, 1, 1, 1, 1, 1, 1, 1, 1, 1, 1, 1, 1, 1,\n",
              "       1, 1, 1, 1, 1, 1, 1, 1, 1, 1, 1, 1, 1, 1, 1, 1, 1, 1, 1, 1, 1, 1,\n",
              "       1, 1, 1, 1, 1, 1, 1, 1, 1, 1, 1, 1, 1, 1, 1, 1, 1, 1, 1, 1, 1, 1,\n",
              "       1, 1, 1, 1, 1, 1, 1, 1, 1, 1, 1, 1, 1, 1, 1, 1, 1, 1, 1, 1, 1, 1,\n",
              "       1, 1, 1, 1, 1, 1, 1, 1, 1, 1, 1, 1, 1, 1, 1, 1, 1, 1, 1, 1, 1, 1,\n",
              "       1, 1, 1, 1, 1, 1, 1, 1, 1, 1, 1, 1, 1, 1, 1, 1, 1, 1, 1, 1, 1, 1,\n",
              "       1, 1, 1, 1, 1, 1, 1, 1, 1, 1, 1, 1, 1, 1, 1, 1, 1, 1, 1, 1, 1, 1,\n",
              "       1, 1, 1, 1, 1, 1, 1, 1, 1, 1, 1, 1, 1, 1, 1, 1, 1, 1, 1, 1, 1, 1,\n",
              "       1, 1, 1, 1, 1, 1, 1, 1, 1, 1, 1, 1, 1, 1, 1, 1, 1, 1, 1, 1, 1, 1,\n",
              "       1, 1, 1, 1, 1, 1, 1, 1, 1, 1, 1, 1, 1, 1, 1, 1, 1, 1, 1, 1])"
            ]
          },
          "metadata": {},
          "execution_count": 50
        }
      ],
      "source": [
        "target"
      ]
    },
    {
      "cell_type": "markdown",
      "metadata": {
        "id": "yRhNbEaMlGF2"
      },
      "source": [
        "Ploting the data according to target "
      ]
    },
    {
      "cell_type": "code",
      "execution_count": 64,
      "metadata": {
        "colab": {
          "base_uri": "https://localhost:8080/",
          "height": 298
        },
        "id": "R78za_qPlKbM",
        "outputId": "5aa4744a-2b5c-4739-ed5f-eda212fd39d2"
      },
      "outputs": [
        {
          "output_type": "stream",
          "name": "stderr",
          "text": [
            "WARNING:matplotlib.legend:No handles with labels found to put in legend.\n"
          ]
        },
        {
          "output_type": "display_data",
          "data": {
            "text/plain": [
              "<Figure size 432x288 with 1 Axes>"
            ],
            "image/png": "[encoded data removed]"
          },
          "metadata": {
            "needs_background": "light"
          }
        }
      ],
      "source": [
        "# plt.scatter(x[target == 0, 0], x[target == 0, 1], s = 100, c = 'purple')\n",
        "plt.scatter(x[target == 1, 0], x[target == 1, 1], s = 100, c = 'orange')\n",
        "plt.scatter(x[target == 2, 0], x[target == 2, 1], s = 100, c = 'green')\n",
        "\n",
        "plt.title('Initial data')\n",
        "#Plotting the centroids of the clusters\n",
        "\n",
        "\n",
        "plt.legend()\n",
        "plt.show()"
      ]
    },
    {
      "cell_type": "markdown",
      "source": [
        "FINDING THE BEST K BY ELBOW METHOD"
      ],
      "metadata": {
        "id": "WhNYI-qMhEQM"
      }
    },
    {
      "cell_type": "code",
      "source": [
        "from sklearn.cluster import KMeans\n",
        "ssd = [] # An empty list for sum of squared distances to be appended for k values 2 to 30\n",
        "clusters = []\n",
        "for k in range(1,11):\n",
        "    model = KMeans(n_clusters=k)\n",
        "    model.fit(x)\n",
        "    ssd.append(model.inertia_)\n",
        "    clusters.append(model)\n",
        "plt.figure(figsize=(8,4),dpi=100)\n",
        "plt.plot(range(1,11), ssd, marker='o', color='green', markerfacecolor='blue', markersize=5);\n",
        "plt.xlabel(\"K Value\");\n",
        "plt.ylabel(\"Sum of Squared Distances\");\n",
        "  "
      ],
      "metadata": {
        "colab": {
          "base_uri": "https://localhost:8080/",
          "height": 382
        },
        "id": "2SxdWhyfhI_0",
        "outputId": "5fe1b0cb-25f4-4e85-95ce-b09ae0de94c4"
      },
      "execution_count": 65,
      "outputs": [
        {
          "output_type": "display_data",
          "data": {
            "text/plain": [
              "<Figure size 800x400 with 1 Axes>"
            ],
            "image/png": "[encoded data removed]"
          },
          "metadata": {
            "needs_background": "light"
          }
        }
      ]
    },
    {
      "cell_type": "markdown",
      "source": [
        "WE CAN CLEARLY SEE THAT ELBOW IS AT 4 BUT STILL LETS CHECK THE SILHOUTTE SCORE"
      ],
      "metadata": {
        "id": "05XA24v-hlQ8"
      }
    },
    {
      "cell_type": "code",
      "source": [
        "from sklearn.metrics import silhouette_score\n",
        "for i in range(1,9,1):\n",
        "    \n",
        "    print(\"---------------------------------------\")\n",
        "    print(clusters[i])\n",
        "    print(\"Silhouette score:\",silhouette_score(x, clusters[i].predict(x)))"
      ],
      "metadata": {
        "colab": {
          "base_uri": "https://localhost:8080/"
        },
        "id": "Hf3od4c8hutG",
        "outputId": "16dbfdcf-0659-4ca7-f867-567fddb1ed66"
      },
      "execution_count": 66,
      "outputs": [
        {
          "output_type": "stream",
          "name": "stdout",
          "text": [
            "---------------------------------------\n",
            "KMeans(n_clusters=2)\n",
            "Silhouette score: 0.504053343540688\n",
            "---------------------------------------\n",
            "KMeans(n_clusters=3)\n",
            "Silhouette score: 0.4968214798120788\n",
            "---------------------------------------\n",
            "KMeans(n_clusters=4)\n",
            "Silhouette score: 0.46947462822355135\n",
            "---------------------------------------\n",
            "KMeans(n_clusters=5)\n",
            "Silhouette score: 0.46191530626071314\n",
            "---------------------------------------\n",
            "KMeans(n_clusters=6)\n",
            "Silhouette score: 0.4854762993459331\n",
            "---------------------------------------\n",
            "KMeans(n_clusters=7)\n",
            "Silhouette score: 0.4781468072936115\n",
            "---------------------------------------\n",
            "KMeans()\n",
            "Silhouette score: 0.4713667094158296\n",
            "---------------------------------------\n",
            "KMeans(n_clusters=9)\n",
            "Silhouette score: 0.46298792611655054\n"
          ]
        }
      ]
    },
    {
      "cell_type": "markdown",
      "metadata": {
        "id": "TAbup_7wllz0"
      },
      "source": [
        "Applying  Kmeans "
      ]
    },
    {
      "cell_type": "code",
      "execution_count": 67,
      "metadata": {
        "id": "lPi1b6KDlqU6"
      },
      "outputs": [],
      "source": [
        "kmeans = KMeans(n_clusters = 2, max_iter = 100, random_state = 0)\n",
        "y_kmeans = kmeans.fit_predict(x)"
      ]
    },
    {
      "cell_type": "markdown",
      "metadata": {
        "id": "QnUfw36ElwX5"
      },
      "source": [
        "Viewing the the cluster formation"
      ]
    },
    {
      "cell_type": "code",
      "execution_count": 68,
      "metadata": {
        "colab": {
          "base_uri": "https://localhost:8080/"
        },
        "id": "wr8hl1RQl0wp",
        "outputId": "335b3696-7a37-46ac-e36c-fdde01d35e90"
      },
      "outputs": [
        {
          "output_type": "execute_result",
          "data": {
            "text/plain": [
              "array([1, 1, 1, 1, 1, 1, 1, 1, 1, 1, 1, 1, 1, 1, 1, 1, 1, 1, 1, 1, 1, 1,\n",
              "       1, 1, 1, 1, 1, 1, 1, 1, 1, 1, 1, 1, 1, 1, 1, 1, 1, 1, 1, 1, 1, 1,\n",
              "       1, 1, 1, 1, 1, 1, 1, 1, 1, 1, 1, 1, 1, 1, 1, 1, 1, 1, 1, 1, 1, 1,\n",
              "       1, 1, 1, 1, 1, 1, 1, 1, 1, 1, 1, 1, 1, 1, 1, 1, 1, 1, 1, 1, 1, 1,\n",
              "       1, 1, 1, 0, 1, 1, 1, 1, 1, 1, 1, 1, 1, 1, 1, 1, 1, 1, 1, 1, 1, 1,\n",
              "       1, 1, 1, 1, 1, 1, 1, 1, 1, 1, 1, 1, 1, 1, 1, 1, 1, 1, 1, 1, 1, 1,\n",
              "       1, 1, 1, 1, 1, 1, 1, 1, 1, 0, 1, 0, 0, 0, 0, 0, 0, 0, 0, 0, 0, 0,\n",
              "       0, 0, 0, 0, 0, 0, 0, 0, 0, 0, 0, 0, 0, 0, 0, 0, 0, 0, 0, 0, 0, 0,\n",
              "       0, 0, 0, 0, 0, 0, 0, 0, 0, 0, 0, 0, 0, 0, 0, 0, 0, 0, 0, 0, 0, 0,\n",
              "       0, 0, 0, 0, 0, 0, 0, 0, 0, 0, 0, 0, 0, 0, 0, 0, 0, 0, 0, 0, 0, 0,\n",
              "       0, 0, 0, 0, 0, 0, 0, 0, 0, 0, 0, 0, 0, 0, 0, 0, 0, 0, 0, 0, 0, 0,\n",
              "       0, 0, 0, 0, 0, 0, 0, 0, 0, 0, 0, 0, 0, 0, 0, 0, 0, 0, 0, 0, 0, 0,\n",
              "       0, 0, 0, 0, 0, 0, 0, 0, 0, 0, 0, 0, 0, 0, 0, 0, 0, 0, 0, 0, 0, 0,\n",
              "       0, 0, 0, 0, 0, 0, 0, 0, 0, 0, 0, 0, 0, 0, 0, 0, 0, 0, 0, 0, 0, 0,\n",
              "       0, 0, 0, 0, 0, 0, 0, 0, 0, 0, 0, 0, 0, 0, 0, 0, 0, 0, 0, 0, 0, 0,\n",
              "       0, 0, 0, 0, 0, 0, 0, 0, 0, 0, 0, 0, 0, 0, 0, 0, 0, 0, 0, 0, 0, 0,\n",
              "       0, 0, 0, 0, 0, 0, 0, 0, 0, 0, 0, 0, 0, 0, 0, 0, 0, 0, 0, 0],\n",
              "      dtype=int32)"
            ]
          },
          "metadata": {},
          "execution_count": 68
        }
      ],
      "source": [
        "y_kmeans"
      ]
    },
    {
      "cell_type": "markdown",
      "metadata": {
        "id": "5m5M4KMNl9ec"
      },
      "source": [
        "Ploting the clusturing result"
      ]
    },
    {
      "cell_type": "code",
      "execution_count": 69,
      "metadata": {
        "colab": {
          "base_uri": "https://localhost:8080/",
          "height": 407
        },
        "id": "g1NS32KLmBda",
        "outputId": "29ae35a6-ee88-43ca-cc68-d83145a3c889"
      },
      "outputs": [
        {
          "output_type": "stream",
          "name": "stderr",
          "text": [
            "WARNING:matplotlib.legend:No handles with labels found to put in legend.\n"
          ]
        },
        {
          "output_type": "display_data",
          "data": {
            "text/plain": [
              "<Figure size 1008x432 with 2 Axes>"
            ],
            "image/png": "[encoded data removed]"
          },
          "metadata": {
            "needs_background": "light"
          }
        }
      ],
      "source": [
        "fig, axes = plt.subplots(1, 2, figsize=(14,6))\n",
        "axes[1].scatter(x[y_kmeans == 0, 0], x[y_kmeans == 0, 1], s = 100, c = 'purple')\n",
        "axes[1].scatter(x[y_kmeans == 1, 0], x[y_kmeans == 1, 1], s = 100, c = 'orange')\n",
        "axes[1].scatter(x[y_kmeans == 2, 0], x[y_kmeans == 2, 1], s = 100, c = 'green')\n",
        "axes[1].scatter(x[y_kmeans == 3, 0], x[y_kmeans == 3, 1], s = 100, c = 'pink')\n",
        "axes[1].set_title('After clusturing')\n",
        "#Plotting the centroids of the clusters\n",
        "axes[1].scatter(kmeans.cluster_centers_[:, 0], kmeans.cluster_centers_[:,1], s = 100, c = 'red' )\n",
        "# axes[0].scatter(x[target == 0, 0], x[target == 0, 1], s = 100, c = 'purple')\n",
        "axes[0].scatter(x[target == 1, 0], x[target == 1, 1], s = 100, c = 'orange')\n",
        "axes[0].scatter(x[target == 2, 0], x[target == 2, 1], s = 100, c = 'green')\n",
        "axes[0].scatter(x[target == 3, 0], x[target == 3, 1], s = 100, c = 'red')\n",
        "axes[0].scatter(x[target == 4, 0], x[target == 4, 1], s = 100, c = 'blue')\n",
        "axes[0].scatter(x[target == 5, 0], x[target == 5, 1], s = 100, c = 'black')\n",
        "axes[0].scatter(x[target == 6, 0], x[target == 6, 1], s = 100, c = 'purple')\n",
        "axes[0].scatter(x[target == 7, 0], x[target == 7, 1], s = 100, c = 'pink')\n",
        "axes[0].set_title('before clusturing')\n",
        "#Plotting the centroids of the clusters\n",
        "\n",
        "\n",
        "plt.legend()\n",
        "plt.show()"
      ]
    },
    {
      "cell_type": "markdown",
      "metadata": {
        "id": "4-XakZVlmJ0i"
      },
      "source": []
    },
    {
      "cell_type": "code",
      "execution_count": 70,
      "metadata": {
        "colab": {
          "base_uri": "https://localhost:8080/"
        },
        "id": "5eV_Gsw-mRPm",
        "outputId": "16389b93-09e1-4e1f-fa83-8b2b0c39fa28"
      },
      "outputs": [
        {
          "output_type": "stream",
          "name": "stdout",
          "text": [
            "col_0    0   1\n",
            "row_0         \n",
            "1      230  46\n",
            "2        1  95\n"
          ]
        }
      ],
      "source": [
        "print(pd.crosstab(target,y_kmeans))"
      ]
    }
  ],
  "metadata": {
    "colab": {
      "provenance": []
    },
    "kernelspec": {
      "display_name": "gdalpip",
      "language": "python",
      "name": "python3"
    },
    "language_info": {
      "codemirror_mode": {
        "name": "ipython",
        "version": 3
      },
      "file_extension": ".py",
      "mimetype": "text/x-python",
      "name": "python",
      "nbconvert_exporter": "python",
      "pygments_lexer": "ipython3",
      "version": "3.9.12"
    },
    "vscode": {
      "interpreter": {
        "hash": "17cf10c51dbaa30b7418865ccea7f7044bf7ad3d0e34897ca85d6c48629dbc7b"
      }
    }
  },
  "nbformat": 4,
  "nbformat_minor": 0
}